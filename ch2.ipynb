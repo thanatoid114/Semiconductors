{
 "cells": [
  {
   "cell_type": "code",
   "execution_count": 1,
   "metadata": {},
   "outputs": [],
   "source": [
    "import numpy as np\n",
    "import matplotlib.pyplot as plt"
   ]
  },
  {
   "cell_type": "markdown",
   "metadata": {},
   "source": [
    "# Chapter 2: Electronic Structure\n",
    "\n",
    "## 2.1 Periodic potential\n",
    "\n",
    "For a one dimenional crystal, for any vector $L$, which is a vector on the lattice\n",
    "$$ V(x+L) = V(x) $$\n",
    "where $L = na$ with an integer multiply with atoms spacing on the lattice.\n",
    "The potential and the wavefunction $\\psi$ should have the same periodicity.\n",
    "The wavefunctino is complex, but the probability that arises from this wavefunction must have the periodicity.\n",
    "**That is, one cannot really identify one atom from all the others, so the probability relating to the presence of the electron mus be the same at each and every atom**.\n",
    "This mean\n",
    "$$|\\psi(x+L)|^2 = |\\psi(x)|^2$$\n",
    "and \n",
    "$$ \\psi(x+a) = e^{i\\phi}\\psi(x). $$\n",
    "Assume the periodic boundary condition with $N$ atoms in the chain, then\n",
    "$$ e^{iN\\phi} = 1 , ~ \\phi = \\frac{2n\\pi}{N}$$\n",
    "where $n$ is an integer."
   ]
  },
  {
   "cell_type": "markdown",
   "metadata": {},
   "source": [
    "### 2.1.1 Bloch function\n",
    "The value $2\\pi/a$ is the basic part of the Brillouin zone.\n",
    "Write the wavefunction\n",
    "$$\\psi(x) = \\sum_k C(k) e^{ikx} .$$\n",
    "For the potential represents it by Fourier transform in terms of the basic lattice constant over which it is periodic $a$\n",
    "$$ V(x) = \\sum_G U_G e^{iGx}, ~ ~ G= \\frac{2\\pi n}{a} .$$\n",
    "**Hence, we see that $G$ are harmonics of the basic spatial frequency of the potential**.\n",
    "Then the Schrodinger equation $\\hbar=1$ reads\n",
    "$$ \\sum_k \\left[ \\frac{k^2}{2m} C(k) + \\sum_G U_G C(k) e^{iGx} - E C(k) \\right] e^{ikx} = 0 .$$\n",
    "\n",
    "\n",
    "In the Fourier transfrom space, the analogy to $\\psi(x+a) = e^{i\\phi} \\psi(x)$ is that there is a displacement operator in momentum space by which\n",
    "$$ C(k+ \\lambda) = e^{i\\lambda x } C(k),$$\n",
    "due to the properties of Fourier transformation.\n",
    "Then the sufficient condition to be satisfied is \n",
    "$$ \\left( \\frac{k^2}{2m} -E \\right) C(k) + \\sum_G U_G C\\left( k-G \\right) = 0 . \\label{eq:2.10}$$\n",
    "The second term represents a convolution summation of these coefficients with the Fourier coefficients of the potential.\n",
    "It is apparent that a continuous spectrum of Fourier coefficients is not present.\n",
    "In fact, only a discrete number of values of the vector $k$ are allowed by the discretization introduced by the periodic boundary conditions.\n",
    "By writing the wavefunction in terms of the shifted vector to make sure $k$ is in the first Brillioun zone, this read\n",
    "$$ \\psi_k(x) = \\sum_G C(k-G) e^{i(k-G)x} = \\left[ \\sum_G C(k-G) e^{-iGx}\\right] e^{ikx} .$$\n",
    "We can have the **Bloch function**\n",
    "$$\\psi_k(x) = e^{ikx} u_k(x)$$"
   ]
  },
  {
   "cell_type": "markdown",
   "metadata": {},
   "source": [
    "### 2.1.2 Periodiccity and gaps in energy\n",
    "For free particle $E= \\frac{k^2}{2m_0}$.\n",
    "For Bloch wave function, it is not unique, as it has been sufficient to define $k$ only in the first Brillouin zone.\n",
    "When use a value of $k$ runs througth $-\\pi/a < k< \\pi/a$ to provide the first Brillouin zone, we called it a Wigner-Seitz cell.\n",
    "In this case, those values of $k$ closer to the $\\Gamma$ point than to any point shifted from this one by a reciprocal latticel vector $G= 2\\pi n/a$.\n",
    "This means the $k$ is only defined up to a reciprocal lattice vector, then the energy reads\n",
    "$$ E = \\frac{(k-G)^2}{2m} $$"
   ]
  },
  {
   "cell_type": "code",
   "execution_count": 24,
   "metadata": {},
   "outputs": [
    {
     "data": {
      "text/plain": [
       "Text(0.5, 1.0, 'FBZ: -1<k<1')"
      ]
     },
     "execution_count": 24,
     "metadata": {},
     "output_type": "execute_result"
    },
    {
     "data": {
      "image/png": "[encoded data removed]",
      "text/plain": [
       "<Figure size 432x288 with 1 Axes>"
      ]
     },
     "metadata": {
      "needs_background": "light"
     },
     "output_type": "display_data"
    }
   ],
   "source": [
    "klist = np.linspace(-2.5,2.5,300)\n",
    "elist = [(klist-i)**2 for i in range(-2,3,2)]\n",
    "for i in range(len(elist)):\n",
    "    plt.plot(klist,elist[i].transpose())\n",
    "plt.xlabel('k')\n",
    "plt.ylabel('Eng')\n",
    "plt.ylim([0,10]);\n",
    "plt.title('FBZ: -1<k<1')"
   ]
  },
  {
   "cell_type": "markdown",
   "metadata": {},
   "source": [
    "The plot shows three parabolas.\n",
    "The energy are degenerate at $\\pm 1 $ and $0$.\n",
    "It will be more complicated and numerous in multiple dimensions.\n",
    "It is at these degeneracies that the crystal potential is expected to modify the basic nearly-free-electron picture by openning gaps at the crossing points.\n",
    "\n",
    "Let us shift the moemntum $k$ in $\\eqref{eq:2.10}$ an amount $G'$, so we have\n",
    "$$\\left(E_{k-G'} - E \\right) C(k-G') + \\sum_G U_G C\\left(k-G-G'\\right) =0$$\n",
    "and \n",
    "the original one\n",
    "$$ \\left( E_k -E \\right) C(k) + \\sum_G U_G C\\left( k-G \\right) = 0 .$$\n",
    "\n",
    "Focusingon the crossing point\n",
    "$$\n",
    "E_{k-G'} = E_k|_{k=\\pm G/2}$$.\n",
    "By only selecting two terms in the equations, we have ($U_G = U_{-G}^*$)\n",
    "$$\n",
    "\\begin{eqnarray}\n",
    "(E_k - E) C(k) + U_G C(k-G) &=& 0 \\\\\n",
    "(E_{k-G} - E ) C(k-G) + U_G^* C(k) &=& 0\n",
    "\\end{eqnarray}\n",
    "$$\n",
    "Obviously, the determinat of the coefficient matrix must vanish if the solutions are able to be found, this gives\n",
    "$$\n",
    "\\begin{equation}\n",
    "E = \\frac{E_k + E_{k_G}}{2} \\pm \\sqrt{ \\left( \\frac{E_k - E_{k_G}}{2} \\right)^2 + U_G^2} = E_{\\pi/a} \\pm U_G \\label{eq:2-18}\n",
    "\\end{equation}\n",
    "$$\n",
    "Thus the gap is open by $2U_G$ and is exactly propotyional to the potential interaction.\n",
    "\n",
    "We can carried further.\n",
    "To see this, we take $k = \\frac{G}{2} - \\delta $, and the energies may be expanded as\n",
    "$$\n",
    "E_k = \\frac{1}{2m} \\left( \\frac{G^2}{4} - \\delta G + \\delta^2 \\right)\n",
    "$$\n",
    "and \n",
    "$$\n",
    "E_{k-G} = \\frac{1}{2m} \\left( \\frac{G^2}{4} + \\delta G + \\delta^2 \\right)\n",
    "$$\n",
    "And the two energies of $\\eqref{eq:2-18}$ in this case read\n",
    "$$\n",
    "E = E_{G/2} + \\frac{\\delta^2}{2m} \\pm \\sqrt{4 E_{G/2} \\frac{\\delta^2}{2m} + U_G^2}\n",
    "$$\n",
    "\n",
    "One can write in the new form by define $E_\\pm = E_{G/2} \\pm U_G$, they reads\n",
    "$$\n",
    "E_{a(b)} (\\delta) = E_\\pm \\pm \\frac{\\delta^2}{2m} \\left( \\frac{2E_{G/2}}{U_G} \\pm 1 \\right)\n",
    "$$\n",
    "for small varlus of $\\delta$. \n",
    "Here, $E_{G/2} = \\hbar^2 G^2 /8m= \\hbar^2 \\pi^2/8ma^2$.\n",
    "The crystal potential has produced a gap in the energy spectrum and resulting bands curve much more than normal parabolic bands."
   ]
  },
  {
   "cell_type": "code",
   "execution_count": 78,
   "metadata": {},
   "outputs": [
    {
     "data": {
      "image/png": "[encoded data removed]",
      "text/plain": [
       "<Figure size 432x288 with 1 Axes>"
      ]
     },
     "metadata": {
      "needs_background": "light"
     },
     "output_type": "display_data"
    }
   ],
   "source": [
    "ku = 1\n",
    "EG2 = ku**2/2\n",
    "UG = 0.05\n",
    "\n",
    "klist = np.linspace(0,-0.1*ku,100)\n",
    "Elist1 = EG2+UG+((klist**2)/2)*(2*EG2/UG + 1)\n",
    "Elist2 = EG2-UG-((klist**2)/2)*(2*EG2/UG - 1)\n",
    "\n",
    "Elist3 = (klist+ku)**2/2\n",
    "Elist4 = (klist-ku)**2/2\n",
    "\n",
    "plt.plot(klist, Elist1,'r')\n",
    "plt.plot(klist, Elist2,'r')\n",
    "plt.plot(klist, Elist3,'--b')\n",
    "plt.plot(klist, Elist4,'--b')\n",
    "plt.ylabel('Eng');\n",
    "plt.xlabel(r'$\\delta$');"
   ]
  },
  {
   "cell_type": "markdown",
   "metadata": {},
   "source": [
    "One can introduce an effective mass, in the spirit that the band variation away from the minimum should be nearly parabolic, similar to the normal free-electron parabolas.\n",
    "For small $\\delta$, from previous equation, the binding and anti-binding effective masses are defined as\n",
    "$$ \\frac{1}{m_b^*} = \\frac{1}{m}\\left(1 - \\frac{2E_{G/2}}{U_G} \\right) $$\n",
    "and \n",
    "$$ \\frac{1}{m_a^*} = \\frac{1}{m}\\left(1 + \\frac{2E_{G/2}}{U_G} \\right) $$\n",
    "\n",
    "It may be noted that the two bands are not quite mirror images of one another as the masses are silghtly different in value due to the sign change between the two terms.\n",
    "This makes the anti-bonding mass slightly smaller of the two in magnitude.\n",
    "\n",
    "For larger values of $\\delta$, it is not fair to expand the square roots. \n",
    "The more general case is given by\n",
    "$$\n",
    "E(\\delta) = E_{G/2} \\pm U_G \\sqrt{1 + \\frac{2\\hbar^2 \\delta^2 E_{G/2}}{mU_G^2}}\n",
    "= E_{G/2} \\pm \\frac{E_{gap}}{2} \\sqrt{1 + \\frac{2\\hbar^2 \\delta^2}{m^* E_{gap}}}\n",
    "$$\n",
    "where $E_{gap} = 2U_G$."
   ]
  },
  {
   "cell_type": "markdown",
   "metadata": {},
   "source": [
    "## 2.2 Potentials and pseudopotentials\n",
    "In general, the inner core electrons play no role in the bonding process, which determines the crystal structure.\n",
    "For example, the $Si$ bonds are composed of $3s$ and $3p$ levels, while the $GaAs$ and $Ge$ have bonds composed of $4s$ and $4p$ electrons.\n",
    "\n",
    "Then the Hamiltonian can be simpified when we are only treating the outer shell bonding eletrons as\n",
    "$$\n",
    "H = \\sum_{i \\in b_s} \\Bigg\\{ \\frac{p_i^2}{2m} - q_i \\left[ V(x_i) - \\sum_{i\\neq j} \\frac{q_j}{4\\pi \\varepsilon x_{ij}} \\right] \\Bigg\\} + E_{core}\n",
    "$$\n",
    "where the last term represents the energy shift due to the kinetic and interaction energies of the core electrons.\n",
    "One can introduce the **pseudopotential** by counting the $j-$ electrons is inside the core, where\n",
    "$$\n",
    "V_P(x_i) = V(x_i) - \\sum_{j\\in b_{core}}\\frac{q_j}{4\\pi \\varepsilon x_{ij}}\n",
    "$$.\n",
    "\n",
    "\n",
    "Several discussion about the method to find the pseudopotentials."
   ]
  },
  {
   "cell_type": "markdown",
   "metadata": {},
   "source": [
    "## 2.3 Real-space methods\n",
    "In real-space method, one compute the electronic structure using the Hamiltonian and the wave functions written in real space.\n",
    "Here, we will solve the pseudopotential version of the Schrodinger equation, which may be written as\n",
    "$$\n",
    "H(x) \\psi(x) = H_0 \\psi(x) + V_P(x) \\psi(x)\n",
    "$$"
   ]
  },
  {
   "cell_type": "code",
   "execution_count": null,
   "metadata": {},
   "outputs": [],
   "source": []
  }
 ],
 "metadata": {
  "kernelspec": {
   "display_name": "Python 3",
   "language": "python",
   "name": "python3"
  },
  "language_info": {
   "codemirror_mode": {
    "name": "ipython",
    "version": 3
   },
   "file_extension": ".py",
   "mimetype": "text/x-python",
   "name": "python",
   "nbconvert_exporter": "python",
   "pygments_lexer": "ipython3",
   "version": "3.7.6"
  }
 },
 "nbformat": 4,
 "nbformat_minor": 4
}
